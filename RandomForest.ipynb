{
  "nbformat": 4,
  "nbformat_minor": 0,
  "metadata": {
    "colab": {
      "name": "Копия блокнота \"Pandas_draft.ipynb\"",
      "provenance": [],
      "collapsed_sections": []
    },
    "kernelspec": {
      "name": "python3",
      "display_name": "Python 3"
    }
  },
  "cells": [
    {
      "cell_type": "code",
      "metadata": {
        "colab": {
          "base_uri": "https://localhost:8080/"
        },
        "id": "ZrUGOE_bu6CB",
        "outputId": "3b0b731f-2a1e-4dba-d8ad-a733b355c4e1"
      },
      "source": [
        "import requests, os, zipfile\r\n",
        "import glob\r\n",
        "import pickle as pk\r\n",
        "import pandas as pd\r\n",
        "import numpy as np\r\n",
        "import matplotlib.pyplot as plt\r\n",
        "from sklearn.preprocessing import LabelEncoder\r\n",
        "from imblearn.over_sampling import ADASYN\r\n",
        "from imblearn.over_sampling import SMOTE\r\n",
        "from imblearn.under_sampling import RandomUnderSampler\r\n",
        "from sklearn.decomposition import PCA\r\n",
        "from sklearn.model_selection import train_test_split\r\n",
        "from sklearn.utils.class_weight import compute_class_weight\r\n",
        "from sklearn.ensemble import RandomForestClassifier\r\n",
        "from sklearn.metrics import confusion_matrix\r\n",
        "from sklearn.metrics import plot_confusion_matrix\r\n",
        "from sklearn.metrics import classification_report\r\n",
        "from sklearn.metrics import ConfusionMatrixDisplay\r\n",
        "import matplotlib as mpl\r\n",
        "# Path to the events archive\r\n",
        "dataset_zip = '/tmp/events.zip'\r\n",
        "\r\n",
        "# Path to the extracted events\r\n",
        "dataset_dir = '/tmp/events/'\r\n",
        "\r\n",
        "# Path to the dataset file\r\n",
        "dataset_pkl = '/tmp/dataset.zip'"
      ],
      "execution_count": 1,
      "outputs": [
        {
          "output_type": "stream",
          "text": [
            "/usr/local/lib/python3.6/dist-packages/sklearn/externals/six.py:31: FutureWarning: The module is deprecated in version 0.21 and will be removed in version 0.23 since we've dropped support for Python 2.7. Please rely on the official version of six (https://pypi.org/project/six/).\n",
            "  \"(https://pypi.org/project/six/).\", FutureWarning)\n",
            "/usr/local/lib/python3.6/dist-packages/sklearn/utils/deprecation.py:144: FutureWarning: The sklearn.neighbors.base module is  deprecated in version 0.22 and will be removed in version 0.24. The corresponding classes / functions should instead be imported from sklearn.neighbors. Anything that cannot be imported from sklearn.neighbors is now part of the private API.\n",
            "  warnings.warn(message, FutureWarning)\n"
          ],
          "name": "stderr"
        }
      ]
    },
    {
      "cell_type": "code",
      "metadata": {
        "cellView": "form",
        "id": "VKQkOPkwu8vs"
      },
      "source": [
        "#@title Dataset Download\r\n",
        "\r\n",
        "import requests, os, zipfile\r\n",
        "\r\n",
        "def download_file_from_google_drive(id, destination):\r\n",
        "    URL = \"https://docs.google.com/uc?export=download\"\r\n",
        "    session = requests.Session()\r\n",
        "    response = session.get(URL, params = { 'id' : id }, stream = True)\r\n",
        "    token = get_confirm_token(response)\r\n",
        "    if token:\r\n",
        "        params = { 'id' : id, 'confirm' : token }\r\n",
        "        response = session.get(URL, params = params, stream = True)\r\n",
        "    save_response_content(response, destination)    \r\n",
        "\r\n",
        "def get_confirm_token(response):\r\n",
        "    for key, value in response.cookies.items():\r\n",
        "        if key.startswith('download_warning'):\r\n",
        "            return value\r\n",
        "    return None\r\n",
        "\r\n",
        "def save_response_content(response, destination):\r\n",
        "    CHUNK_SIZE = 32768\r\n",
        "    with open(destination, \"wb\") as f:\r\n",
        "        for chunk in response.iter_content(CHUNK_SIZE):\r\n",
        "            if chunk: # filter out keep-alive new chunks\r\n",
        "                f.write(chunk)\r\n",
        "\r\n",
        "# Download the dataset\r\n",
        "download_file_from_google_drive('1ZPgbhToHLXfLg2IPl0QkxgP6I1TI-KdU', dataset_zip)\r\n",
        "\r\n",
        "# Unzip the dataset\r\n",
        "with zipfile.ZipFile(dataset_zip, 'r') as zip_ref:\r\n",
        "    zip_ref.extractall(dataset_dir)"
      ],
      "execution_count": 2,
      "outputs": []
    },
    {
      "cell_type": "code",
      "metadata": {
        "id": "UyVJSbaoHo0s"
      },
      "source": [
        "# The dataframe of the events\r\n",
        "events = pd.DataFrame()\r\n",
        "\r\n",
        "# Get paths to the event files\r\n",
        "pkl_paths = glob.glob(dataset_dir + '*.pkl')\r\n",
        "\r\n",
        "# Concatenate the events\r\n",
        "for pkl_path in pkl_paths:\r\n",
        "  # Unpickle the event file\r\n",
        "  pkl_file = open(pkl_path, 'rb')\r\n",
        "  event = pk.load(pkl_file)\r\n",
        "\r\n",
        "  # Create a dataframe for the event\r\n",
        "  event = pd.DataFrame({'image': event[0], 'label': event[1]})\r\n",
        "\r\n",
        "  # Concatenate the event\r\n",
        "  events = pd.concat([events, event], axis=0)\r\n",
        "\r\n",
        "# Save the dataset\r\n",
        "events.to_pickle(dataset_pkl)"
      ],
      "execution_count": 3,
      "outputs": []
    },
    {
      "cell_type": "code",
      "metadata": {
        "id": "UxRoWJdVHOqU"
      },
      "source": [
        "df = events.copy()\r\n",
        "df['diag'] = events['image'].apply(np.diag)"
      ],
      "execution_count": 4,
      "outputs": []
    },
    {
      "cell_type": "code",
      "metadata": {
        "colab": {
          "base_uri": "https://localhost:8080/",
          "height": 195
        },
        "id": "ZU6hzIELucRP",
        "outputId": "fabc8c29-4577-4dbd-f37e-9758a6367579"
      },
      "source": [
        "df = df.drop(['image'], axis=1)\r\n",
        "df=df.reindex(columns=['diag','label'])\r\n",
        "df.head()"
      ],
      "execution_count": 5,
      "outputs": [
        {
          "output_type": "execute_result",
          "data": {
            "text/html": [
              "<div>\n",
              "<style scoped>\n",
              "    .dataframe tbody tr th:only-of-type {\n",
              "        vertical-align: middle;\n",
              "    }\n",
              "\n",
              "    .dataframe tbody tr th {\n",
              "        vertical-align: top;\n",
              "    }\n",
              "\n",
              "    .dataframe thead th {\n",
              "        text-align: right;\n",
              "    }\n",
              "</style>\n",
              "<table border=\"1\" class=\"dataframe\">\n",
              "  <thead>\n",
              "    <tr style=\"text-align: right;\">\n",
              "      <th></th>\n",
              "      <th>diag</th>\n",
              "      <th>label</th>\n",
              "    </tr>\n",
              "  </thead>\n",
              "  <tbody>\n",
              "    <tr>\n",
              "      <th>0</th>\n",
              "      <td>[2.0, 3.0, 2.0, 0.0, 1.0, 1.0, 0.0, 1.0, 1.0, ...</td>\n",
              "      <td>2212</td>\n",
              "    </tr>\n",
              "    <tr>\n",
              "      <th>1</th>\n",
              "      <td>[3.0, 3.0, 2.0, 0.0, 1.0, 1.0, 0.0, 2.0, 1.0, ...</td>\n",
              "      <td>2212</td>\n",
              "    </tr>\n",
              "    <tr>\n",
              "      <th>2</th>\n",
              "      <td>[4.0, 3.0, 3.0, 0.0, 1.0, 1.0, 0.0, 1.0, 1.0, ...</td>\n",
              "      <td>321</td>\n",
              "    </tr>\n",
              "    <tr>\n",
              "      <th>3</th>\n",
              "      <td>[3.0, 2.0, 4.0, 0.0, 1.0, 1.0, 0.0, 1.0, 1.0, ...</td>\n",
              "      <td>211</td>\n",
              "    </tr>\n",
              "    <tr>\n",
              "      <th>4</th>\n",
              "      <td>[3.0, 0.0, 3.0, 0.0, 3.0, 0.0, 0.0, 2.0, 0.0, ...</td>\n",
              "      <td>321</td>\n",
              "    </tr>\n",
              "  </tbody>\n",
              "</table>\n",
              "</div>"
            ],
            "text/plain": [
              "                                                diag label\n",
              "0  [2.0, 3.0, 2.0, 0.0, 1.0, 1.0, 0.0, 1.0, 1.0, ...  2212\n",
              "1  [3.0, 3.0, 2.0, 0.0, 1.0, 1.0, 0.0, 2.0, 1.0, ...  2212\n",
              "2  [4.0, 3.0, 3.0, 0.0, 1.0, 1.0, 0.0, 1.0, 1.0, ...   321\n",
              "3  [3.0, 2.0, 4.0, 0.0, 1.0, 1.0, 0.0, 1.0, 1.0, ...   211\n",
              "4  [3.0, 0.0, 3.0, 0.0, 3.0, 0.0, 0.0, 2.0, 0.0, ...   321"
            ]
          },
          "metadata": {
            "tags": []
          },
          "execution_count": 5
        }
      ]
    },
    {
      "cell_type": "code",
      "metadata": {
        "colab": {
          "base_uri": "https://localhost:8080/",
          "height": 402
        },
        "id": "YOv38rI1wdg_",
        "outputId": "d99a1310-3ac1-4e7f-8e65-d941fa739818"
      },
      "source": [
        "encoder = LabelEncoder()\r\n",
        "df['label'] = encoder.fit_transform(df['label'])\r\n",
        "df"
      ],
      "execution_count": 6,
      "outputs": [
        {
          "output_type": "execute_result",
          "data": {
            "text/html": [
              "<div>\n",
              "<style scoped>\n",
              "    .dataframe tbody tr th:only-of-type {\n",
              "        vertical-align: middle;\n",
              "    }\n",
              "\n",
              "    .dataframe tbody tr th {\n",
              "        vertical-align: top;\n",
              "    }\n",
              "\n",
              "    .dataframe thead th {\n",
              "        text-align: right;\n",
              "    }\n",
              "</style>\n",
              "<table border=\"1\" class=\"dataframe\">\n",
              "  <thead>\n",
              "    <tr style=\"text-align: right;\">\n",
              "      <th></th>\n",
              "      <th>diag</th>\n",
              "      <th>label</th>\n",
              "    </tr>\n",
              "  </thead>\n",
              "  <tbody>\n",
              "    <tr>\n",
              "      <th>0</th>\n",
              "      <td>[2.0, 3.0, 2.0, 0.0, 1.0, 1.0, 0.0, 1.0, 1.0, ...</td>\n",
              "      <td>4</td>\n",
              "    </tr>\n",
              "    <tr>\n",
              "      <th>1</th>\n",
              "      <td>[3.0, 3.0, 2.0, 0.0, 1.0, 1.0, 0.0, 2.0, 1.0, ...</td>\n",
              "      <td>4</td>\n",
              "    </tr>\n",
              "    <tr>\n",
              "      <th>2</th>\n",
              "      <td>[4.0, 3.0, 3.0, 0.0, 1.0, 1.0, 0.0, 1.0, 1.0, ...</td>\n",
              "      <td>3</td>\n",
              "    </tr>\n",
              "    <tr>\n",
              "      <th>3</th>\n",
              "      <td>[3.0, 2.0, 4.0, 0.0, 1.0, 1.0, 0.0, 1.0, 1.0, ...</td>\n",
              "      <td>2</td>\n",
              "    </tr>\n",
              "    <tr>\n",
              "      <th>4</th>\n",
              "      <td>[3.0, 0.0, 3.0, 0.0, 3.0, 0.0, 0.0, 2.0, 0.0, ...</td>\n",
              "      <td>3</td>\n",
              "    </tr>\n",
              "    <tr>\n",
              "      <th>...</th>\n",
              "      <td>...</td>\n",
              "      <td>...</td>\n",
              "    </tr>\n",
              "    <tr>\n",
              "      <th>2729</th>\n",
              "      <td>[3.0, 2.0, 1.0, 2.0, 2.0, 0.0, 1.0, 1.0, 0.0, ...</td>\n",
              "      <td>2</td>\n",
              "    </tr>\n",
              "    <tr>\n",
              "      <th>2730</th>\n",
              "      <td>[5.0, 1.0, 2.0, 1.0, 0.0, 1.0, 2.0, 0.0, 1.0, ...</td>\n",
              "      <td>2</td>\n",
              "    </tr>\n",
              "    <tr>\n",
              "      <th>2731</th>\n",
              "      <td>[3.0, 0.0, 2.0, 0.0, 2.0, 0.0, 0.0, 1.0, 0.0, ...</td>\n",
              "      <td>2</td>\n",
              "    </tr>\n",
              "    <tr>\n",
              "      <th>2732</th>\n",
              "      <td>[3.0, 0.0, 0.0, 0.0, 0.0, 0.0, 0.0, 0.0, 0.0, ...</td>\n",
              "      <td>2</td>\n",
              "    </tr>\n",
              "    <tr>\n",
              "      <th>2733</th>\n",
              "      <td>[3.0, 0.0, 3.0, 0.0, 2.0, 0.0, 0.0, 2.0, 0.0, ...</td>\n",
              "      <td>2</td>\n",
              "    </tr>\n",
              "  </tbody>\n",
              "</table>\n",
              "<p>1176475 rows × 2 columns</p>\n",
              "</div>"
            ],
            "text/plain": [
              "                                                   diag  label\n",
              "0     [2.0, 3.0, 2.0, 0.0, 1.0, 1.0, 0.0, 1.0, 1.0, ...      4\n",
              "1     [3.0, 3.0, 2.0, 0.0, 1.0, 1.0, 0.0, 2.0, 1.0, ...      4\n",
              "2     [4.0, 3.0, 3.0, 0.0, 1.0, 1.0, 0.0, 1.0, 1.0, ...      3\n",
              "3     [3.0, 2.0, 4.0, 0.0, 1.0, 1.0, 0.0, 1.0, 1.0, ...      2\n",
              "4     [3.0, 0.0, 3.0, 0.0, 3.0, 0.0, 0.0, 2.0, 0.0, ...      3\n",
              "...                                                 ...    ...\n",
              "2729  [3.0, 2.0, 1.0, 2.0, 2.0, 0.0, 1.0, 1.0, 0.0, ...      2\n",
              "2730  [5.0, 1.0, 2.0, 1.0, 0.0, 1.0, 2.0, 0.0, 1.0, ...      2\n",
              "2731  [3.0, 0.0, 2.0, 0.0, 2.0, 0.0, 0.0, 1.0, 0.0, ...      2\n",
              "2732  [3.0, 0.0, 0.0, 0.0, 0.0, 0.0, 0.0, 0.0, 0.0, ...      2\n",
              "2733  [3.0, 0.0, 3.0, 0.0, 2.0, 0.0, 0.0, 2.0, 0.0, ...      2\n",
              "\n",
              "[1176475 rows x 2 columns]"
            ]
          },
          "metadata": {
            "tags": []
          },
          "execution_count": 6
        }
      ]
    },
    {
      "cell_type": "code",
      "metadata": {
        "colab": {
          "base_uri": "https://localhost:8080/"
        },
        "id": "qPZvbI6Vw30i",
        "outputId": "6a1b72f3-e4b3-4cdb-fbb3-20c3a3e2fff7"
      },
      "source": [
        "X_train, X_rest, y_train, y_rest = train_test_split(np.stack(df['diag'].to_numpy()), df['label'].to_numpy(), test_size=.3)\r\n",
        "X_val, X_test, y_val, y_test = train_test_split(X_rest, y_rest, test_size=.33)\r\n",
        "df['label'].unique()\r\n"
      ],
      "execution_count": 7,
      "outputs": [
        {
          "output_type": "execute_result",
          "data": {
            "text/plain": [
              "array([4, 3, 2, 0, 1])"
            ]
          },
          "metadata": {
            "tags": []
          },
          "execution_count": 7
        }
      ]
    },
    {
      "cell_type": "code",
      "metadata": {
        "colab": {
          "base_uri": "https://localhost:8080/"
        },
        "id": "299NzFIVxIHO",
        "outputId": "67928c3a-2d57-41e4-9226-ab57fc8796c6"
      },
      "source": [
        "clf_balanced = RandomForestClassifier(class_weight='balanced')\r\n",
        "clf_balanced.fit(X_train, y_train)"
      ],
      "execution_count": 8,
      "outputs": [
        {
          "output_type": "execute_result",
          "data": {
            "text/plain": [
              "RandomForestClassifier(bootstrap=True, ccp_alpha=0.0, class_weight='balanced',\n",
              "                       criterion='gini', max_depth=None, max_features='auto',\n",
              "                       max_leaf_nodes=None, max_samples=None,\n",
              "                       min_impurity_decrease=0.0, min_impurity_split=None,\n",
              "                       min_samples_leaf=1, min_samples_split=2,\n",
              "                       min_weight_fraction_leaf=0.0, n_estimators=100,\n",
              "                       n_jobs=None, oob_score=False, random_state=None,\n",
              "                       verbose=0, warm_start=False)"
            ]
          },
          "metadata": {
            "tags": []
          },
          "execution_count": 8
        }
      ]
    },
    {
      "cell_type": "code",
      "metadata": {
        "id": "5uCddcqBxfDe"
      },
      "source": [
        "y_pred = clf_balanced.predict(X_test)\r\n",
        "y_pred_decoded = encoder.inverse_transform(y_pred)\r\n",
        "y_test_decoded = encoder.inverse_transform(y_test)"
      ],
      "execution_count": 9,
      "outputs": []
    },
    {
      "cell_type": "code",
      "metadata": {
        "colab": {
          "base_uri": "https://localhost:8080/",
          "height": 449
        },
        "id": "iit9lopHys9H",
        "outputId": "5caf1087-d60b-4b49-d536-e6144cc468f8"
      },
      "source": [
        " # Build a confusion matrix for the model\r\n",
        "mpl.rcParams.update(mpl.rcParamsDefault)\r\n",
        "cm = confusion_matrix(np.array(y_test_decoded, dtype=str), np.array(y_pred_decoded, dtype=str), np.array(np.unique(y_test_decoded), dtype=str), normalize='true')\r\n",
        "cmd = ConfusionMatrixDisplay(confusion_matrix=cm, display_labels=np.array(np.unique(y_test_decoded)))\r\n",
        "cmd.plot(include_values=True,\r\n",
        "          cmap='viridis',\r\n",
        "          ax=None,\r\n",
        "          xticks_rotation='horizontal')\r\n",
        "plt.savefig('/tmp/Rf_balanced', bbox_inches='tight')\r\n",
        "plt.show()\r\n"
      ],
      "execution_count": 14,
      "outputs": [
        {
          "output_type": "display_data",
          "data": {
            "image/png": "[encoded data removed]",
            "text/plain": [
              "<Figure size 640x480 with 2 Axes>"
            ]
          },
          "metadata": {
            "tags": []
          }
        }
      ]
    },
    {
      "cell_type": "code",
      "metadata": {
        "colab": {
          "base_uri": "https://localhost:8080/"
        },
        "id": "vFFZfU7UPNCJ",
        "outputId": "9e7d9cd9-fd68-4bec-ef82-a62ab75386b8"
      },
      "source": [
        "print(classification_report(np.array(y_test_decoded, dtype=str), np.array(y_pred_decoded, dtype=str)))"
      ],
      "execution_count": 13,
      "outputs": [
        {
          "output_type": "stream",
          "text": [
            "              precision    recall  f1-score   support\n",
            "\n",
            "          11       0.00      0.21      0.01       284\n",
            "          13       0.00      0.28      0.00       118\n",
            "         211       0.78      0.25      0.37     89543\n",
            "        2212       0.14      0.24      0.18     11137\n",
            "         321       0.14      0.24      0.18     15390\n",
            "\n",
            "    accuracy                           0.24    116472\n",
            "   macro avg       0.21      0.24      0.15    116472\n",
            "weighted avg       0.63      0.24      0.33    116472\n",
            "\n"
          ],
          "name": "stdout"
        }
      ]
    },
    {
      "cell_type": "code",
      "metadata": {
        "colab": {
          "base_uri": "https://localhost:8080/"
        },
        "id": "CY1es8wBOSR3",
        "outputId": "c2331b30-1b9f-481e-c0cc-4f5572b43dae"
      },
      "source": [
        "clf_unbalanced = RandomForestClassifier()\r\n",
        "clf_unbalanced.fit(X_train, y_train)"
      ],
      "execution_count": 15,
      "outputs": [
        {
          "output_type": "execute_result",
          "data": {
            "text/plain": [
              "RandomForestClassifier(bootstrap=True, ccp_alpha=0.0, class_weight=None,\n",
              "                       criterion='gini', max_depth=None, max_features='auto',\n",
              "                       max_leaf_nodes=None, max_samples=None,\n",
              "                       min_impurity_decrease=0.0, min_impurity_split=None,\n",
              "                       min_samples_leaf=1, min_samples_split=2,\n",
              "                       min_weight_fraction_leaf=0.0, n_estimators=100,\n",
              "                       n_jobs=None, oob_score=False, random_state=None,\n",
              "                       verbose=0, warm_start=False)"
            ]
          },
          "metadata": {
            "tags": []
          },
          "execution_count": 15
        }
      ]
    },
    {
      "cell_type": "code",
      "metadata": {
        "id": "CmuRbwXTeRRk"
      },
      "source": [
        "y_pred = clf_unbalanced.predict(X_test)\r\n",
        "y_pred_decoded = encoder.inverse_transform(y_pred)"
      ],
      "execution_count": 16,
      "outputs": []
    },
    {
      "cell_type": "code",
      "metadata": {
        "colab": {
          "base_uri": "https://localhost:8080/",
          "height": 455
        },
        "id": "-61v2MQROckt",
        "outputId": "c3037747-b4d8-4834-ae3d-c5f249d27009"
      },
      "source": [
        "mpl.rcParams.update(mpl.rcParamsDefault)\r\n",
        "cm = confusion_matrix(np.array(y_test_decoded, dtype=str), np.array(y_pred_decoded, dtype=str), np.array(np.unique(y_test_decoded), dtype=str), normalize='true')\r\n",
        "cmd = ConfusionMatrixDisplay(confusion_matrix=cm, display_labels=np.array(np.unique(y_test_decoded)))\r\n",
        "cmd.plot(include_values=True,\r\n",
        "          cmap='viridis',\r\n",
        "          ax=None,\r\n",
        "          xticks_rotation='horizontal')\r\n",
        "plt.savefig('/tmp/Rf_unbalanced', bbox_inches='tight')\r\n",
        "plt.show()"
      ],
      "execution_count": 19,
      "outputs": [
        {
          "output_type": "display_data",
          "data": {
            "image/png": "[encoded data removed]",
            "text/plain": [
              "<Figure size 640x480 with 2 Axes>"
            ]
          },
          "metadata": {
            "tags": []
          }
        }
      ]
    },
    {
      "cell_type": "code",
      "metadata": {
        "colab": {
          "base_uri": "https://localhost:8080/"
        },
        "id": "NzzU_rA6OfBc",
        "outputId": "7d69938c-9198-4cbc-f816-21b354378c19"
      },
      "source": [
        "print(classification_report(np.array(y_test_decoded, dtype=str), np.array(y_pred_decoded, dtype=str)))\r\n"
      ],
      "execution_count": 20,
      "outputs": [
        {
          "output_type": "stream",
          "text": [
            "              precision    recall  f1-score   support\n",
            "\n",
            "          11       0.00      0.00      0.00       284\n",
            "          13       0.00      0.00      0.00       118\n",
            "         211       0.77      0.99      0.87     89543\n",
            "        2212       0.24      0.01      0.03     11137\n",
            "         321       0.17      0.01      0.01     15390\n",
            "\n",
            "    accuracy                           0.76    116472\n",
            "   macro avg       0.23      0.20      0.18    116472\n",
            "weighted avg       0.64      0.76      0.67    116472\n",
            "\n"
          ],
          "name": "stdout"
        }
      ]
    },
    {
      "cell_type": "code",
      "metadata": {
        "id": "p8cIX1DwPDfL"
      },
      "source": [
        ""
      ],
      "execution_count": null,
      "outputs": []
    }
  ]
}